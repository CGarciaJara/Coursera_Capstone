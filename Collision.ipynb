{
 "cells": [
  {
   "cell_type": "markdown",
   "metadata": {},
   "source": [
    "# Capstone Project - Car accident severity in Seattle (2004-2020)"
   ]
  },
  {
   "cell_type": "markdown",
   "metadata": {},
   "source": [
    "This notebook will be used to show the process in our last project for the Data Science Certification.\n"
   ]
  },
  {
   "cell_type": "markdown",
   "metadata": {},
   "source": [
    "## Table of contents\n",
    "* [Introduction: Business Problem](#introduction)\n",
    "* [Data](#data)\n",
    "* [Methodology](#methodology)\n",
    "* [Analysis](#analysis)\n",
    "* [Results and Discussion](#results)\n",
    "* [Conclusion](#conclusion)\n",
    "* [References](#references)"
   ]
  },
  {
   "cell_type": "markdown",
   "metadata": {},
   "source": [
    "## Introduction: Business Problem <a name=\"introduction\"></a>"
   ]
  },
  {
   "cell_type": "markdown",
   "metadata": {},
   "source": [
    "According to the National Safety Council (nsc.org) during 2019 and 2018 the US experience a decline in the number of roadway deaths. It is estimated in 2019 approximately 38,000 people lost their lives due to car crashes. Even though this decline is encouraging the total of people seriously injured in 2019 were 4.4 million(1). This numbers shows why traffic accidents are an important public safety challenge. Further more, in a global perspective, recent projections have estimated that as income and vehicle ownership levels rise in the developing world, “the global number of road traffic deaths would increase by approximately two-thirds by the year 2020” (2). This explains why information is needed in order to guide local and national governments in what are the driving factors and how to prevent car accidents and fatalities.\n",
    "\n",
    "We believe that using data and the proper analysis we can create prediction models.\n",
    "\n",
    "Once a solid model is developed we may be able to apply it to different cities and  countries, not only US."
   ]
  },
  {
   "cell_type": "markdown",
   "metadata": {},
   "source": [
    "## <a name=\"data\"></a> Data"
   ]
  },
  {
   "cell_type": "markdown",
   "metadata": {},
   "source": [
    "For this effort we will use the dataset offered in the course. Originally the data was published by the City of Seattle (3) The “All collisions” file is provided by SPD and recorded by Traffic Records. The data is provided as a CSV that is exported from the ArcGIS (4) program used by the city. The application provides geographical data but also 35 other fields with pertinent data for our research. In particular our model will work on predicting SEVERITYCODE, specially fatalities, code 3.\n",
    "\n",
    "The current data set has 195K records including all types of collisions from 2004 to present. This data includes valuable fields like collision type, date of incident, number of persons injured or dead, if the driver was under the influence, weather, id the vehicle was speeding among others. \n",
    "\n",
    "We will also use City_Clerk_Neighborhoods.geojson. A geographical file provided by the City of Seattle with the boundaries of all the neighborhoods in the city. https://data.seattle.gov/dataset/Municipal-Boundaries/54dn-ah5p"
   ]
  },
  {
   "cell_type": "code",
   "execution_count": 1,
   "metadata": {},
   "outputs": [
    {
     "name": "stdout",
     "output_type": "stream",
     "text": [
      "Libraries imported.\n"
     ]
    }
   ],
   "source": [
    "# Import the required packages\n",
    "import pandas as pd\n",
    "import pylab as pl\n",
    "import numpy as np\n",
    "\n",
    "print('Libraries imported.')"
   ]
  },
  {
   "cell_type": "code",
   "execution_count": 2,
   "metadata": {},
   "outputs": [
    {
     "name": "stdout",
     "output_type": "stream",
     "text": [
      "--2020-10-27 04:32:52--  https://s3.us.cloud-object-storage.appdomain.cloud/cf-courses-data/CognitiveClass/DP0701EN/version-2/Data-Collisions.csv\n",
      "Resolving s3.us.cloud-object-storage.appdomain.cloud (s3.us.cloud-object-storage.appdomain.cloud)... 67.228.254.196\n",
      "Connecting to s3.us.cloud-object-storage.appdomain.cloud (s3.us.cloud-object-storage.appdomain.cloud)|67.228.254.196|:443... connected.\n",
      "HTTP request sent, awaiting response... 200 OK\n",
      "Length: 73917638 (70M) [text/csv]\n",
      "Saving to: ‘Data-Collisions.csv’\n",
      "\n",
      "Data-Collisions.csv 100%[===================>]  70.49M  20.0MB/s    in 3.7s    \n",
      "\n",
      "2020-10-27 04:32:56 (18.9 MB/s) - ‘Data-Collisions.csv’ saved [73917638/73917638]\n",
      "\n"
     ]
    },
    {
     "name": "stderr",
     "output_type": "stream",
     "text": [
      "/home/jupyterlab/conda/envs/python/lib/python3.6/site-packages/IPython/core/interactiveshell.py:3072: DtypeWarning: Columns (33) have mixed types.Specify dtype option on import or set low_memory=False.\n",
      "  interactivity=interactivity, compiler=compiler, result=result)\n"
     ]
    }
   ],
   "source": [
    "## Import the data from the City of Seattle\n",
    "!wget -O Data-Collisions.csv https://s3.us.cloud-object-storage.appdomain.cloud/cf-courses-data/CognitiveClass/DP0701EN/version-2/Data-Collisions.csv\n",
    "\n",
    "collision_df = pd.read_csv(\"Data-Collisions.csv\")"
   ]
  },
  {
   "cell_type": "markdown",
   "metadata": {},
   "source": [
    "We review the data and the data type to understand what is needed and what fields will work to help in our project."
   ]
  },
  {
   "cell_type": "code",
   "execution_count": 3,
   "metadata": {},
   "outputs": [
    {
     "data": {
      "text/plain": [
       "SEVERITYCODE        int64\n",
       "X                 float64\n",
       "Y                 float64\n",
       "OBJECTID            int64\n",
       "INCKEY              int64\n",
       "COLDETKEY           int64\n",
       "REPORTNO           object\n",
       "STATUS             object\n",
       "ADDRTYPE           object\n",
       "INTKEY            float64\n",
       "LOCATION           object\n",
       "EXCEPTRSNCODE      object\n",
       "EXCEPTRSNDESC      object\n",
       "SEVERITYCODE.1      int64\n",
       "SEVERITYDESC       object\n",
       "COLLISIONTYPE      object\n",
       "PERSONCOUNT         int64\n",
       "PEDCOUNT            int64\n",
       "PEDCYLCOUNT         int64\n",
       "VEHCOUNT            int64\n",
       "INCDATE            object\n",
       "INCDTTM            object\n",
       "JUNCTIONTYPE       object\n",
       "SDOT_COLCODE        int64\n",
       "SDOT_COLDESC       object\n",
       "INATTENTIONIND     object\n",
       "UNDERINFL          object\n",
       "WEATHER            object\n",
       "ROADCOND           object\n",
       "LIGHTCOND          object\n",
       "PEDROWNOTGRNT      object\n",
       "SDOTCOLNUM        float64\n",
       "SPEEDING           object\n",
       "ST_COLCODE         object\n",
       "ST_COLDESC         object\n",
       "SEGLANEKEY          int64\n",
       "CROSSWALKKEY        int64\n",
       "HITPARKEDCAR       object\n",
       "dtype: object"
      ]
     },
     "execution_count": 3,
     "metadata": {},
     "output_type": "execute_result"
    }
   ],
   "source": [
    "collision_df.dtypes"
   ]
  },
  {
   "cell_type": "markdown",
   "metadata": {},
   "source": [
    "Columns(s) to use: The below listed fields are considered to proceed with our analysis\n",
    "\n",
    "<li> OBJECTID: ESRI unique identifier<br>\n",
    "<li> X (longitud), Y (latitude): Geographical coordinates of the collision.<br>\n",
    "<li> INCDTTM: The date and time of the collision.<br>\n",
    "<li> ADDRTYPE: Collision address type:Alley, Block or Intersection.<br>\n",
    "<li> SEVERITYCODE: severity of the collision: 3—fatality, 2b—serious injury, 2—injury, 1—prop damage or 0—unknown<br>\n",
    "<li> COLLISIONTYPE: Collision type.<br>\n",
    "<li> PERSONCOUNT: The total number of people involved in the collision.<br>\n",
    "<li> VEHCOUNT: The number of vehicles involved in the collision. This is entered by the state.<br>\n",
    "<li> JUNCTIONTYPE:Category of junction at which collision took place.<br>\n",
    "<li> WEATHER: A description of the weather conditions during the time of the collision.<br>\n",
    "<li> ROADCOND: The condition of the road during the collision.<br>\n",
    "<li> LIGHTCOND: The light conditions during the collision.<br>\n",
    "<li> SPEEDING: Whether or not speeding was a factor in the collision. (Y/N)<br>\n",
    "<li> ST_COLCODE: A code provided by the state that describes the collision.<br>\n",
    "<li> ST_COLDESC: A description that corresponds to the state’s coding designation.<br>\n"
   ]
  },
  {
   "cell_type": "markdown",
   "metadata": {},
   "source": [
    "### Data Pre-processing and Cleaning:\n",
    "Creating a new dataframe to with only the selected fields and the proceeding to replace missing data accordingly to make the analysis viable."
   ]
  },
  {
   "cell_type": "code",
   "execution_count": 4,
   "metadata": {},
   "outputs": [],
   "source": [
    "seattle_df = collision_df[['OBJECTID', 'X', 'Y', 'INCDATE', 'INCDTTM', 'ADDRTYPE', 'SEVERITYCODE', 'COLLISIONTYPE', 'PERSONCOUNT', 'VEHCOUNT', 'JUNCTIONTYPE', 'WEATHER', 'ROADCOND', 'LIGHTCOND', 'SPEEDING', 'ST_COLCODE']].copy()"
   ]
  },
  {
   "cell_type": "code",
   "execution_count": 5,
   "metadata": {
    "collapsed": true,
    "jupyter": {
     "outputs_hidden": true,
     "source_hidden": true
    }
   },
   "outputs": [
    {
     "data": {
      "text/html": [
       "<div>\n",
       "<style scoped>\n",
       "    .dataframe tbody tr th:only-of-type {\n",
       "        vertical-align: middle;\n",
       "    }\n",
       "\n",
       "    .dataframe tbody tr th {\n",
       "        vertical-align: top;\n",
       "    }\n",
       "\n",
       "    .dataframe thead th {\n",
       "        text-align: right;\n",
       "    }\n",
       "</style>\n",
       "<table border=\"1\" class=\"dataframe\">\n",
       "  <thead>\n",
       "    <tr style=\"text-align: right;\">\n",
       "      <th></th>\n",
       "      <th>OBJECTID</th>\n",
       "      <th>X</th>\n",
       "      <th>Y</th>\n",
       "      <th>INCDATE</th>\n",
       "      <th>INCDTTM</th>\n",
       "      <th>ADDRTYPE</th>\n",
       "      <th>SEVERITYCODE</th>\n",
       "      <th>COLLISIONTYPE</th>\n",
       "      <th>PERSONCOUNT</th>\n",
       "      <th>VEHCOUNT</th>\n",
       "      <th>JUNCTIONTYPE</th>\n",
       "      <th>WEATHER</th>\n",
       "      <th>ROADCOND</th>\n",
       "      <th>LIGHTCOND</th>\n",
       "      <th>SPEEDING</th>\n",
       "      <th>ST_COLCODE</th>\n",
       "    </tr>\n",
       "  </thead>\n",
       "  <tbody>\n",
       "    <tr>\n",
       "      <th>0</th>\n",
       "      <td>1</td>\n",
       "      <td>-122.323148</td>\n",
       "      <td>47.703140</td>\n",
       "      <td>2013/03/27 00:00:00+00</td>\n",
       "      <td>3/27/2013 2:54:00 PM</td>\n",
       "      <td>Intersection</td>\n",
       "      <td>2</td>\n",
       "      <td>Angles</td>\n",
       "      <td>2</td>\n",
       "      <td>2</td>\n",
       "      <td>At Intersection (intersection related)</td>\n",
       "      <td>Overcast</td>\n",
       "      <td>Wet</td>\n",
       "      <td>Daylight</td>\n",
       "      <td>NaN</td>\n",
       "      <td>10</td>\n",
       "    </tr>\n",
       "    <tr>\n",
       "      <th>1</th>\n",
       "      <td>2</td>\n",
       "      <td>-122.347294</td>\n",
       "      <td>47.647172</td>\n",
       "      <td>2006/12/20 00:00:00+00</td>\n",
       "      <td>12/20/2006 6:55:00 PM</td>\n",
       "      <td>Block</td>\n",
       "      <td>1</td>\n",
       "      <td>Sideswipe</td>\n",
       "      <td>2</td>\n",
       "      <td>2</td>\n",
       "      <td>Mid-Block (not related to intersection)</td>\n",
       "      <td>Raining</td>\n",
       "      <td>Wet</td>\n",
       "      <td>Dark - Street Lights On</td>\n",
       "      <td>NaN</td>\n",
       "      <td>11</td>\n",
       "    </tr>\n",
       "    <tr>\n",
       "      <th>2</th>\n",
       "      <td>3</td>\n",
       "      <td>-122.334540</td>\n",
       "      <td>47.607871</td>\n",
       "      <td>2004/11/18 00:00:00+00</td>\n",
       "      <td>11/18/2004 10:20:00 AM</td>\n",
       "      <td>Block</td>\n",
       "      <td>1</td>\n",
       "      <td>Parked Car</td>\n",
       "      <td>4</td>\n",
       "      <td>3</td>\n",
       "      <td>Mid-Block (not related to intersection)</td>\n",
       "      <td>Overcast</td>\n",
       "      <td>Dry</td>\n",
       "      <td>Daylight</td>\n",
       "      <td>NaN</td>\n",
       "      <td>32</td>\n",
       "    </tr>\n",
       "    <tr>\n",
       "      <th>3</th>\n",
       "      <td>4</td>\n",
       "      <td>-122.334803</td>\n",
       "      <td>47.604803</td>\n",
       "      <td>2013/03/29 00:00:00+00</td>\n",
       "      <td>3/29/2013 9:26:00 AM</td>\n",
       "      <td>Block</td>\n",
       "      <td>1</td>\n",
       "      <td>Other</td>\n",
       "      <td>3</td>\n",
       "      <td>3</td>\n",
       "      <td>Mid-Block (not related to intersection)</td>\n",
       "      <td>Clear</td>\n",
       "      <td>Dry</td>\n",
       "      <td>Daylight</td>\n",
       "      <td>NaN</td>\n",
       "      <td>23</td>\n",
       "    </tr>\n",
       "    <tr>\n",
       "      <th>4</th>\n",
       "      <td>5</td>\n",
       "      <td>-122.306426</td>\n",
       "      <td>47.545739</td>\n",
       "      <td>2004/01/28 00:00:00+00</td>\n",
       "      <td>1/28/2004 8:04:00 AM</td>\n",
       "      <td>Intersection</td>\n",
       "      <td>2</td>\n",
       "      <td>Angles</td>\n",
       "      <td>2</td>\n",
       "      <td>2</td>\n",
       "      <td>At Intersection (intersection related)</td>\n",
       "      <td>Raining</td>\n",
       "      <td>Wet</td>\n",
       "      <td>Daylight</td>\n",
       "      <td>NaN</td>\n",
       "      <td>10</td>\n",
       "    </tr>\n",
       "  </tbody>\n",
       "</table>\n",
       "</div>"
      ],
      "text/plain": [
       "   OBJECTID           X          Y                 INCDATE  \\\n",
       "0         1 -122.323148  47.703140  2013/03/27 00:00:00+00   \n",
       "1         2 -122.347294  47.647172  2006/12/20 00:00:00+00   \n",
       "2         3 -122.334540  47.607871  2004/11/18 00:00:00+00   \n",
       "3         4 -122.334803  47.604803  2013/03/29 00:00:00+00   \n",
       "4         5 -122.306426  47.545739  2004/01/28 00:00:00+00   \n",
       "\n",
       "                  INCDTTM      ADDRTYPE  SEVERITYCODE COLLISIONTYPE  \\\n",
       "0    3/27/2013 2:54:00 PM  Intersection             2        Angles   \n",
       "1   12/20/2006 6:55:00 PM         Block             1     Sideswipe   \n",
       "2  11/18/2004 10:20:00 AM         Block             1    Parked Car   \n",
       "3    3/29/2013 9:26:00 AM         Block             1         Other   \n",
       "4    1/28/2004 8:04:00 AM  Intersection             2        Angles   \n",
       "\n",
       "   PERSONCOUNT  VEHCOUNT                             JUNCTIONTYPE   WEATHER  \\\n",
       "0            2         2   At Intersection (intersection related)  Overcast   \n",
       "1            2         2  Mid-Block (not related to intersection)   Raining   \n",
       "2            4         3  Mid-Block (not related to intersection)  Overcast   \n",
       "3            3         3  Mid-Block (not related to intersection)     Clear   \n",
       "4            2         2   At Intersection (intersection related)   Raining   \n",
       "\n",
       "  ROADCOND                LIGHTCOND SPEEDING ST_COLCODE  \n",
       "0      Wet                 Daylight      NaN         10  \n",
       "1      Wet  Dark - Street Lights On      NaN         11  \n",
       "2      Dry                 Daylight      NaN         32  \n",
       "3      Dry                 Daylight      NaN         23  \n",
       "4      Wet                 Daylight      NaN         10  "
      ]
     },
     "execution_count": 5,
     "metadata": {},
     "output_type": "execute_result"
    }
   ],
   "source": [
    "seattle_df.head()"
   ]
  },
  {
   "cell_type": "markdown",
   "metadata": {},
   "source": [
    "Finding the missing data in the data frame:Please note some missing data will be replaced with the mean of the value, other with the mode."
   ]
  },
  {
   "cell_type": "code",
   "execution_count": 6,
   "metadata": {},
   "outputs": [
    {
     "name": "stdout",
     "output_type": "stream",
     "text": [
      "OBJECTID\n",
      "False    194673\n",
      "Name: OBJECTID, dtype: int64\n",
      "\n",
      "X\n",
      "False    189339\n",
      "True       5334\n",
      "Name: X, dtype: int64\n",
      "\n",
      "Y\n",
      "False    189339\n",
      "True       5334\n",
      "Name: Y, dtype: int64\n",
      "\n",
      "INCDATE\n",
      "False    194673\n",
      "Name: INCDATE, dtype: int64\n",
      "\n",
      "INCDTTM\n",
      "False    194673\n",
      "Name: INCDTTM, dtype: int64\n",
      "\n",
      "ADDRTYPE\n",
      "False    192747\n",
      "True       1926\n",
      "Name: ADDRTYPE, dtype: int64\n",
      "\n",
      "SEVERITYCODE\n",
      "False    194673\n",
      "Name: SEVERITYCODE, dtype: int64\n",
      "\n",
      "COLLISIONTYPE\n",
      "False    189769\n",
      "True       4904\n",
      "Name: COLLISIONTYPE, dtype: int64\n",
      "\n",
      "PERSONCOUNT\n",
      "False    194673\n",
      "Name: PERSONCOUNT, dtype: int64\n",
      "\n",
      "VEHCOUNT\n",
      "False    194673\n",
      "Name: VEHCOUNT, dtype: int64\n",
      "\n",
      "JUNCTIONTYPE\n",
      "False    188344\n",
      "True       6329\n",
      "Name: JUNCTIONTYPE, dtype: int64\n",
      "\n",
      "WEATHER\n",
      "False    189592\n",
      "True       5081\n",
      "Name: WEATHER, dtype: int64\n",
      "\n",
      "ROADCOND\n",
      "False    189661\n",
      "True       5012\n",
      "Name: ROADCOND, dtype: int64\n",
      "\n",
      "LIGHTCOND\n",
      "False    189503\n",
      "True       5170\n",
      "Name: LIGHTCOND, dtype: int64\n",
      "\n",
      "SPEEDING\n",
      "True     185340\n",
      "False      9333\n",
      "Name: SPEEDING, dtype: int64\n",
      "\n",
      "ST_COLCODE\n",
      "False    194655\n",
      "True         18\n",
      "Name: ST_COLCODE, dtype: int64\n",
      "\n"
     ]
    }
   ],
   "source": [
    "missing_data = seattle_df.isnull()\n",
    "missing_data.head(5)\n",
    "for column in missing_data.columns.values.tolist():\n",
    "    print(column)\n",
    "    print (missing_data[column].value_counts())\n",
    "    print(\"\")"
   ]
  },
  {
   "cell_type": "markdown",
   "metadata": {},
   "source": [
    "Replacing the missing values:"
   ]
  },
  {
   "cell_type": "code",
   "execution_count": 7,
   "metadata": {
    "jupyter": {
     "source_hidden": true
    }
   },
   "outputs": [],
   "source": [
    "seattle_df['ADDRTYPE'].value_counts()\n",
    "seattle_df[\"ADDRTYPE\"].replace(np.nan, \"Block\", inplace=True)\n",
    "seattle_df['COLLISIONTYPE'].value_counts()\n",
    "seattle_df['COLLISIONTYPE'].replace(np.nan, \"Parked Car\", inplace=True)\n",
    "seattle_df['JUNCTIONTYPE'].value_counts()\n",
    "seattle_df['JUNCTIONTYPE'].replace(np.nan, \"Mid-Block (not related to intersection)\", inplace=True)\n",
    "seattle_df['WEATHER'].value_counts()\n",
    "seattle_df['WEATHER'].replace(np.nan, \"Clear\", inplace=True)\n",
    "seattle_df['ROADCOND'].value_counts()\n",
    "seattle_df['ROADCOND'].replace(np.nan, \"Dry\", inplace=True)\n",
    "seattle_df['LIGHTCOND'].value_counts()\n",
    "seattle_df['LIGHTCOND'].replace(np.nan, \"Daylight\", inplace=True)\n",
    "seattle_df['ST_COLCODE'].value_counts()\n",
    "seattle_df['ST_COLCODE'].replace(np.nan, \"32\", inplace=True)\n",
    "seattle_df.dropna(subset=[\"X\"], axis=0, inplace=True)\n",
    "seattle_df.reset_index(drop=True, inplace=True)\n",
    "seattle_df.set_index('OBJECTID', inplace=True)"
   ]
  },
  {
   "cell_type": "markdown",
   "metadata": {},
   "source": [
    "Once the data is correctly transformed we can proceed to the analysis."
   ]
  },
  {
   "cell_type": "code",
   "execution_count": null,
   "metadata": {
    "jupyter": {
     "source_hidden": true
    }
   },
   "outputs": [],
   "source": [
    "missing_data = seattle_df.isnull()\n",
    "#missing_data.head(5)\n",
    "for column in missing_data.columns.values.tolist():\n",
    "    print(column)\n",
    "    print (missing_data[column].value_counts())\n",
    "    print(\"\")"
   ]
  },
  {
   "cell_type": "code",
   "execution_count": 18,
   "metadata": {
    "jupyter": {
     "source_hidden": true
    }
   },
   "outputs": [],
   "source": [
    "seattle_df.to_csv('seattle_df.csv')"
   ]
  },
  {
   "cell_type": "markdown",
   "metadata": {},
   "source": [
    "## Analysis <a name=\"analysis\"></a>"
   ]
  },
  {
   "cell_type": "markdown",
   "metadata": {},
   "source": [
    "### Data Exploration\n"
   ]
  },
  {
   "cell_type": "markdown",
   "metadata": {},
   "source": [
    "Our final dataset includes 187,227 records with 14 distintic attributes:\n",
    "\n",
    "__X__, or Longitud, and __Y__, or Latitude, are provided and allow us to locate the incident in the proper neighborhood in the City of Seattle. This information allow us to identify the city and neighborhood in Seattle that show the most incidents.\n",
    "\n",
    "The four neighborhood with them most incidentes are: \n",
    "* Industrial District\n",
    "* Central Business District\n",
    "* Belltown\n",
    "* University District\n",
    "\n"
   ]
  },
  {
   "cell_type": "markdown",
   "metadata": {},
   "source": [
    "<img src=\"images/8_Geographical_Distribution.png\" width=900 height=600 />\n",
    "\n"
   ]
  },
  {
   "cell_type": "markdown",
   "metadata": {},
   "source": [
    "Using the same geographical information we can identify where are most of the cases concentrated.\n",
    "\n",
    "As indicated before, the Downtown area, Belltown and Central Business District, show are the most incidentes. Also important to highlight, in the south of the city, that there are a lot of incidents in Reiner Ave S, even though this is not a highway. In the north of the city north west of Belltown, 15th Ave W and 15th Ave NW all the way to Holman Rd NW there are a lot of incidents. All those are roads, not highways, but they show a lot of density of incidents may indicate a lot of traffic."
   ]
  },
  {
   "cell_type": "markdown",
   "metadata": {},
   "source": [
    "<img src=\"images/9_Density_Map.png\" width=600 height=600 />"
   ]
  },
  {
   "cell_type": "markdown",
   "metadata": {},
   "source": [
    "\n",
    "\n",
    "__SEVERITYCODE__ is a code that corresponds to the severity of the collision: \n",
    "    * 3—fatality\n",
    "    * 2b—serious injury\n",
    "    * 2—injury\n",
    "    * 1—prop damage\n",
    "    * 0—unknown\n",
    "Our dataset only shows incidents classified as 1 or 2, injury or property damage, showing no fatalities or serious injuries. This can be caused by a lack of traninig at the moment of recording the incidents or a city policy that prevent the systems from showing fatalities.\n"
   ]
  },
  {
   "cell_type": "markdown",
   "metadata": {},
   "source": [
    "<img src=\"images/1_Severity_Code.png\" width=600 height=700 />"
   ]
  },
  {
   "cell_type": "markdown",
   "metadata": {},
   "source": [
    "Two proxy attributes to SEVERITY CODE are __VEHCOUNT__, the number of vehicles involved in the collision, and __PERSONCOUNT__, the number of pedestrians involved in the collision. When reviewing this attributes their distrubution is very similar to SEVERITY CODE. \n",
    "\n",
    "* __PERSONCOUNT__ shows a 67% of the the total pedestrians where affected in incidents classified as PROPERTY DAMANGE, and the other 33% were classified as INJURY.\n",
    "\n",
    "* __VEHCOUNT__ shows a 71% of the the total pedestrians where affected in incidents classified as PROPERTY DAMANGE, and the other 29% were classified as INJURY."
   ]
  },
  {
   "cell_type": "markdown",
   "metadata": {},
   "source": [
    "When analyzing __COLLISIONTYPE__  we notice 62% of all incidents are clasiffied as: Parked Car, Angles or Rear Ended. THe exact distribution is shown in the chart in lines below.\n"
   ]
  },
  {
   "cell_type": "markdown",
   "metadata": {},
   "source": [
    "<img src=\"images/2_Collision_Type.png\" width=600 height=400 />"
   ]
  },
  {
   "cell_type": "markdown",
   "metadata": {},
   "source": [
    "\n",
    "\n",
    "__ST_COLCODE__ provides a more detailed description of the Collision Type. The top three codes are:\n",
    "\n",
    "ST_COLCODE | Pctg\n",
    "------ | ----:\n",
    "One Parked-One Moving | 23%\n",
    "Entering At Angle | 18%\n",
    "From Same Direction, Both Moving | 13%\n"
   ]
  },
  {
   "cell_type": "markdown",
   "metadata": {},
   "source": [
    "\n",
    "It is clear the __WEATHER__ is not a contributing factor to the accidents in the City of Seattle as 60% of the incidents had clear weather. Only 17% had rain and 14% had some overcast sky. Fromt he total of incidents, 41% of them cause Property Damage and happened during clear weather.\n",
    "\n"
   ]
  },
  {
   "cell_type": "markdown",
   "metadata": {},
   "source": [
    "<img src=\"images/3_Weather.png\" width=600 height=400 />"
   ]
  },
  {
   "cell_type": "markdown",
   "metadata": {},
   "source": [
    "Similartly, __LIGHTCOND__, the light conditions during the incident, show that most of the incidents, 63%, happened at daylight or during night with street lights on, 25%, which raises question if this attribute should be considered as an independent variable in our predictive model.\n"
   ]
  },
  {
   "cell_type": "markdown",
   "metadata": {},
   "source": [
    "<img src=\"images/4_Light_Conditions.png\" width=600 height=400 />"
   ]
  },
  {
   "cell_type": "markdown",
   "metadata": {},
   "source": [
    "__ADDRTYPE__ is a flag to identify if the incidents happened on an alley, an intersection or in the middle of the block. This attribute shows 60% of the incidents occur mid-block, and 48% are mid-block and no related to an intersection.\n",
    "\n",
    "__JUNCTIONTYPE__ shows 65% of incidents occurring not in an intersection but in the middle of the block. This attribute is corretaled to __ADDRTYPE__."
   ]
  },
  {
   "cell_type": "markdown",
   "metadata": {},
   "source": [
    "<img src=\"images/5_Place.png\" width=600 height=400 />"
   ]
  },
  {
   "cell_type": "markdown",
   "metadata": {},
   "source": [
    "The conditions of the roads, __ROADCOND__, also shows that most of the incidents occurr when there is no problem, with a dry road. Most of those incidentes caused only property damage, 46% of the total."
   ]
  },
  {
   "cell_type": "markdown",
   "metadata": {},
   "source": [
    "<img src=\"images/6_Road_Conditions.png\" width=600 height=400 />"
   ]
  },
  {
   "cell_type": "markdown",
   "metadata": {},
   "source": [
    "__INCDATE__ and __INCDTTM__ are both attributes of data and date-time. __INCDATE__ does not show any seasonality in the incidents. Unfortunately __INCDTTM__ does not include time stamp for all records. 16% of all records do not show the time of the incident. The records with valid time stamp show that most of the accidents occurr from 8 AM to 8 PM, but since we are missing data this observation is not conclusive.\n",
    "\n",
    "__SPEEDING__, which indicated if whether or not speeding was a factor in the collision shows that only 4% of the incidents are speed related."
   ]
  },
  {
   "cell_type": "markdown",
   "metadata": {},
   "source": [
    "## Methodology <a name=\"methodology\"></a>"
   ]
  },
  {
   "cell_type": "markdown",
   "metadata": {},
   "source": [
    "The information provided by the City of Seattle is plenty but several attributes are correlated, SEVERITY CODE and VEHCOUNT,  incomplete, INCDTTM, or not significant, WHEATER or ROADCON. \n",
    "\n",
    "For this exercise the dependent variable will be __Severity Code__, a categorical value. The independent variables will be __Collision Type__, __Address Type__, __Junction Type__, __X__ and __Y__. \n",
    "\n",
    "We will focus on identify problematic areas and within those create clusters of locations, (using **K-mean** -ns clustering) and __logistic regression__ with related attributes that help the stakeholder identify problems and spark conversations for possible solutions."
   ]
  },
  {
   "cell_type": "markdown",
   "metadata": {},
   "source": [
    "### Predictive Modeling"
   ]
  },
  {
   "cell_type": "markdown",
   "metadata": {},
   "source": [
    "For this exercise we will use two algotrithims we consider more efficient to the kind of data we use. KNN and Logistic Regression.\n",
    "\n",
    "In order to use those algorithims we still need to perform some data manipulation so some of the attributes become numeric values."
   ]
  },
  {
   "cell_type": "code",
   "execution_count": 8,
   "metadata": {
    "jupyter": {
     "source_hidden": true
    }
   },
   "outputs": [],
   "source": [
    "from sklearn import preprocessing\n",
    "import itertools"
   ]
  },
  {
   "cell_type": "code",
   "execution_count": 9,
   "metadata": {
    "collapsed": true,
    "jupyter": {
     "outputs_hidden": true,
     "source_hidden": true
    }
   },
   "outputs": [
    {
     "data": {
      "text/html": [
       "<div>\n",
       "<style scoped>\n",
       "    .dataframe tbody tr th:only-of-type {\n",
       "        vertical-align: middle;\n",
       "    }\n",
       "\n",
       "    .dataframe tbody tr th {\n",
       "        vertical-align: top;\n",
       "    }\n",
       "\n",
       "    .dataframe thead th {\n",
       "        text-align: right;\n",
       "    }\n",
       "</style>\n",
       "<table border=\"1\" class=\"dataframe\">\n",
       "  <thead>\n",
       "    <tr style=\"text-align: right;\">\n",
       "      <th></th>\n",
       "      <th>X</th>\n",
       "      <th>Y</th>\n",
       "      <th>INCDATE</th>\n",
       "      <th>INCDTTM</th>\n",
       "      <th>ADDRTYPE</th>\n",
       "      <th>SEVERITYCODE</th>\n",
       "      <th>COLLISIONTYPE</th>\n",
       "      <th>PERSONCOUNT</th>\n",
       "      <th>VEHCOUNT</th>\n",
       "      <th>JUNCTIONTYPE</th>\n",
       "      <th>WEATHER</th>\n",
       "      <th>ROADCOND</th>\n",
       "      <th>LIGHTCOND</th>\n",
       "      <th>SPEEDING</th>\n",
       "      <th>ST_COLCODE</th>\n",
       "    </tr>\n",
       "    <tr>\n",
       "      <th>OBJECTID</th>\n",
       "      <th></th>\n",
       "      <th></th>\n",
       "      <th></th>\n",
       "      <th></th>\n",
       "      <th></th>\n",
       "      <th></th>\n",
       "      <th></th>\n",
       "      <th></th>\n",
       "      <th></th>\n",
       "      <th></th>\n",
       "      <th></th>\n",
       "      <th></th>\n",
       "      <th></th>\n",
       "      <th></th>\n",
       "      <th></th>\n",
       "    </tr>\n",
       "  </thead>\n",
       "  <tbody>\n",
       "    <tr>\n",
       "      <th>1</th>\n",
       "      <td>-122.323148</td>\n",
       "      <td>47.703140</td>\n",
       "      <td>2013/03/27 00:00:00+00</td>\n",
       "      <td>3/27/2013 2:54:00 PM</td>\n",
       "      <td>1</td>\n",
       "      <td>2</td>\n",
       "      <td>Angles</td>\n",
       "      <td>2</td>\n",
       "      <td>2</td>\n",
       "      <td>At Intersection (intersection related)</td>\n",
       "      <td>Overcast</td>\n",
       "      <td>Wet</td>\n",
       "      <td>Daylight</td>\n",
       "      <td>NaN</td>\n",
       "      <td>10</td>\n",
       "    </tr>\n",
       "    <tr>\n",
       "      <th>2</th>\n",
       "      <td>-122.347294</td>\n",
       "      <td>47.647172</td>\n",
       "      <td>2006/12/20 00:00:00+00</td>\n",
       "      <td>12/20/2006 6:55:00 PM</td>\n",
       "      <td>0</td>\n",
       "      <td>1</td>\n",
       "      <td>Sideswipe</td>\n",
       "      <td>2</td>\n",
       "      <td>2</td>\n",
       "      <td>Mid-Block (not related to intersection)</td>\n",
       "      <td>Raining</td>\n",
       "      <td>Wet</td>\n",
       "      <td>Dark - Street Lights On</td>\n",
       "      <td>NaN</td>\n",
       "      <td>11</td>\n",
       "    </tr>\n",
       "    <tr>\n",
       "      <th>3</th>\n",
       "      <td>-122.334540</td>\n",
       "      <td>47.607871</td>\n",
       "      <td>2004/11/18 00:00:00+00</td>\n",
       "      <td>11/18/2004 10:20:00 AM</td>\n",
       "      <td>0</td>\n",
       "      <td>1</td>\n",
       "      <td>Parked Car</td>\n",
       "      <td>4</td>\n",
       "      <td>3</td>\n",
       "      <td>Mid-Block (not related to intersection)</td>\n",
       "      <td>Overcast</td>\n",
       "      <td>Dry</td>\n",
       "      <td>Daylight</td>\n",
       "      <td>NaN</td>\n",
       "      <td>32</td>\n",
       "    </tr>\n",
       "    <tr>\n",
       "      <th>4</th>\n",
       "      <td>-122.334803</td>\n",
       "      <td>47.604803</td>\n",
       "      <td>2013/03/29 00:00:00+00</td>\n",
       "      <td>3/29/2013 9:26:00 AM</td>\n",
       "      <td>0</td>\n",
       "      <td>1</td>\n",
       "      <td>Other</td>\n",
       "      <td>3</td>\n",
       "      <td>3</td>\n",
       "      <td>Mid-Block (not related to intersection)</td>\n",
       "      <td>Clear</td>\n",
       "      <td>Dry</td>\n",
       "      <td>Daylight</td>\n",
       "      <td>NaN</td>\n",
       "      <td>23</td>\n",
       "    </tr>\n",
       "    <tr>\n",
       "      <th>5</th>\n",
       "      <td>-122.306426</td>\n",
       "      <td>47.545739</td>\n",
       "      <td>2004/01/28 00:00:00+00</td>\n",
       "      <td>1/28/2004 8:04:00 AM</td>\n",
       "      <td>1</td>\n",
       "      <td>2</td>\n",
       "      <td>Angles</td>\n",
       "      <td>2</td>\n",
       "      <td>2</td>\n",
       "      <td>At Intersection (intersection related)</td>\n",
       "      <td>Raining</td>\n",
       "      <td>Wet</td>\n",
       "      <td>Daylight</td>\n",
       "      <td>NaN</td>\n",
       "      <td>10</td>\n",
       "    </tr>\n",
       "  </tbody>\n",
       "</table>\n",
       "</div>"
      ],
      "text/plain": [
       "                   X          Y                 INCDATE  \\\n",
       "OBJECTID                                                  \n",
       "1        -122.323148  47.703140  2013/03/27 00:00:00+00   \n",
       "2        -122.347294  47.647172  2006/12/20 00:00:00+00   \n",
       "3        -122.334540  47.607871  2004/11/18 00:00:00+00   \n",
       "4        -122.334803  47.604803  2013/03/29 00:00:00+00   \n",
       "5        -122.306426  47.545739  2004/01/28 00:00:00+00   \n",
       "\n",
       "                         INCDTTM  ADDRTYPE  SEVERITYCODE COLLISIONTYPE  \\\n",
       "OBJECTID                                                                 \n",
       "1           3/27/2013 2:54:00 PM         1             2        Angles   \n",
       "2          12/20/2006 6:55:00 PM         0             1     Sideswipe   \n",
       "3         11/18/2004 10:20:00 AM         0             1    Parked Car   \n",
       "4           3/29/2013 9:26:00 AM         0             1         Other   \n",
       "5           1/28/2004 8:04:00 AM         1             2        Angles   \n",
       "\n",
       "          PERSONCOUNT  VEHCOUNT                             JUNCTIONTYPE  \\\n",
       "OBJECTID                                                                   \n",
       "1                   2         2   At Intersection (intersection related)   \n",
       "2                   2         2  Mid-Block (not related to intersection)   \n",
       "3                   4         3  Mid-Block (not related to intersection)   \n",
       "4                   3         3  Mid-Block (not related to intersection)   \n",
       "5                   2         2   At Intersection (intersection related)   \n",
       "\n",
       "           WEATHER ROADCOND                LIGHTCOND SPEEDING ST_COLCODE  \n",
       "OBJECTID                                                                  \n",
       "1         Overcast      Wet                 Daylight      NaN         10  \n",
       "2          Raining      Wet  Dark - Street Lights On      NaN         11  \n",
       "3         Overcast      Dry                 Daylight      NaN         32  \n",
       "4            Clear      Dry                 Daylight      NaN         23  \n",
       "5          Raining      Wet                 Daylight      NaN         10  "
      ]
     },
     "execution_count": 9,
     "metadata": {},
     "output_type": "execute_result"
    }
   ],
   "source": [
    "seattle_df['ADDRTYPE'].value_counts()\n",
    "seattle_df['ADDRTYPE'].replace(to_replace=['Block','Intersection'], value=[0,1],inplace=True)\n",
    "seattle_df.head()"
   ]
  },
  {
   "cell_type": "code",
   "execution_count": 10,
   "metadata": {
    "collapsed": true,
    "jupyter": {
     "outputs_hidden": true,
     "source_hidden": true
    }
   },
   "outputs": [
    {
     "data": {
      "text/plain": [
       "COLLISIONTYPE  SEVERITYCODE\n",
       "Angles         1               0.606123\n",
       "               2               0.393877\n",
       "Cycles         2               0.876162\n",
       "               1               0.123838\n",
       "Head On        1               0.568353\n",
       "               2               0.431647\n",
       "Left Turn      1               0.604962\n",
       "               2               0.395038\n",
       "Other          1               0.739821\n",
       "               2               0.260179\n",
       "Parked Car     1               0.928488\n",
       "               2               0.071512\n",
       "Pedestrian     2               0.897726\n",
       "               1               0.102274\n",
       "Rear Ended     1               0.568703\n",
       "               2               0.431297\n",
       "Right Turn     1               0.793613\n",
       "               2               0.206387\n",
       "Sideswipe      1               0.864977\n",
       "               2               0.135023\n",
       "Name: SEVERITYCODE, dtype: float64"
      ]
     },
     "execution_count": 10,
     "metadata": {},
     "output_type": "execute_result"
    }
   ],
   "source": [
    "seattle_df.groupby(['COLLISIONTYPE'])['SEVERITYCODE'].value_counts(normalize=True)"
   ]
  },
  {
   "cell_type": "code",
   "execution_count": 11,
   "metadata": {},
   "outputs": [
    {
     "data": {
      "text/html": [
       "<div>\n",
       "<style scoped>\n",
       "    .dataframe tbody tr th:only-of-type {\n",
       "        vertical-align: middle;\n",
       "    }\n",
       "\n",
       "    .dataframe tbody tr th {\n",
       "        vertical-align: top;\n",
       "    }\n",
       "\n",
       "    .dataframe thead th {\n",
       "        text-align: right;\n",
       "    }\n",
       "</style>\n",
       "<table border=\"1\" class=\"dataframe\">\n",
       "  <thead>\n",
       "    <tr style=\"text-align: right;\">\n",
       "      <th></th>\n",
       "      <th>X</th>\n",
       "      <th>Y</th>\n",
       "      <th>ADDRTYPE</th>\n",
       "      <th>COLLISIONTYPE</th>\n",
       "      <th>JUNCTIONTYPE</th>\n",
       "    </tr>\n",
       "    <tr>\n",
       "      <th>OBJECTID</th>\n",
       "      <th></th>\n",
       "      <th></th>\n",
       "      <th></th>\n",
       "      <th></th>\n",
       "      <th></th>\n",
       "    </tr>\n",
       "  </thead>\n",
       "  <tbody>\n",
       "    <tr>\n",
       "      <th>1</th>\n",
       "      <td>-122.323148</td>\n",
       "      <td>47.703140</td>\n",
       "      <td>1</td>\n",
       "      <td>Angles</td>\n",
       "      <td>At Intersection (intersection related)</td>\n",
       "    </tr>\n",
       "    <tr>\n",
       "      <th>2</th>\n",
       "      <td>-122.347294</td>\n",
       "      <td>47.647172</td>\n",
       "      <td>0</td>\n",
       "      <td>Sideswipe</td>\n",
       "      <td>Mid-Block (not related to intersection)</td>\n",
       "    </tr>\n",
       "    <tr>\n",
       "      <th>3</th>\n",
       "      <td>-122.334540</td>\n",
       "      <td>47.607871</td>\n",
       "      <td>0</td>\n",
       "      <td>Parked Car</td>\n",
       "      <td>Mid-Block (not related to intersection)</td>\n",
       "    </tr>\n",
       "    <tr>\n",
       "      <th>4</th>\n",
       "      <td>-122.334803</td>\n",
       "      <td>47.604803</td>\n",
       "      <td>0</td>\n",
       "      <td>Other</td>\n",
       "      <td>Mid-Block (not related to intersection)</td>\n",
       "    </tr>\n",
       "    <tr>\n",
       "      <th>5</th>\n",
       "      <td>-122.306426</td>\n",
       "      <td>47.545739</td>\n",
       "      <td>1</td>\n",
       "      <td>Angles</td>\n",
       "      <td>At Intersection (intersection related)</td>\n",
       "    </tr>\n",
       "  </tbody>\n",
       "</table>\n",
       "</div>"
      ],
      "text/plain": [
       "                   X          Y  ADDRTYPE COLLISIONTYPE  \\\n",
       "OBJECTID                                                  \n",
       "1        -122.323148  47.703140         1        Angles   \n",
       "2        -122.347294  47.647172         0     Sideswipe   \n",
       "3        -122.334540  47.607871         0    Parked Car   \n",
       "4        -122.334803  47.604803         0         Other   \n",
       "5        -122.306426  47.545739         1        Angles   \n",
       "\n",
       "                                     JUNCTIONTYPE  \n",
       "OBJECTID                                           \n",
       "1          At Intersection (intersection related)  \n",
       "2         Mid-Block (not related to intersection)  \n",
       "3         Mid-Block (not related to intersection)  \n",
       "4         Mid-Block (not related to intersection)  \n",
       "5          At Intersection (intersection related)  "
      ]
     },
     "execution_count": 11,
     "metadata": {},
     "output_type": "execute_result"
    }
   ],
   "source": [
    "seattle_df[['X', 'Y', 'ADDRTYPE','COLLISIONTYPE', 'JUNCTIONTYPE']].head()"
   ]
  },
  {
   "cell_type": "code",
   "execution_count": 12,
   "metadata": {},
   "outputs": [
    {
     "data": {
      "text/html": [
       "<div>\n",
       "<style scoped>\n",
       "    .dataframe tbody tr th:only-of-type {\n",
       "        vertical-align: middle;\n",
       "    }\n",
       "\n",
       "    .dataframe tbody tr th {\n",
       "        vertical-align: top;\n",
       "    }\n",
       "\n",
       "    .dataframe thead th {\n",
       "        text-align: right;\n",
       "    }\n",
       "</style>\n",
       "<table border=\"1\" class=\"dataframe\">\n",
       "  <thead>\n",
       "    <tr style=\"text-align: right;\">\n",
       "      <th></th>\n",
       "      <th>X</th>\n",
       "      <th>Y</th>\n",
       "      <th>ADDRTYPE</th>\n",
       "      <th>Angles</th>\n",
       "      <th>Other</th>\n",
       "      <th>Parked Car</th>\n",
       "      <th>Rear Ended</th>\n",
       "      <th>Sideswipe</th>\n",
       "    </tr>\n",
       "    <tr>\n",
       "      <th>OBJECTID</th>\n",
       "      <th></th>\n",
       "      <th></th>\n",
       "      <th></th>\n",
       "      <th></th>\n",
       "      <th></th>\n",
       "      <th></th>\n",
       "      <th></th>\n",
       "      <th></th>\n",
       "    </tr>\n",
       "  </thead>\n",
       "  <tbody>\n",
       "    <tr>\n",
       "      <th>1</th>\n",
       "      <td>-122.323148</td>\n",
       "      <td>47.703140</td>\n",
       "      <td>1</td>\n",
       "      <td>1</td>\n",
       "      <td>0</td>\n",
       "      <td>0</td>\n",
       "      <td>0</td>\n",
       "      <td>0</td>\n",
       "    </tr>\n",
       "    <tr>\n",
       "      <th>2</th>\n",
       "      <td>-122.347294</td>\n",
       "      <td>47.647172</td>\n",
       "      <td>0</td>\n",
       "      <td>0</td>\n",
       "      <td>0</td>\n",
       "      <td>0</td>\n",
       "      <td>0</td>\n",
       "      <td>1</td>\n",
       "    </tr>\n",
       "    <tr>\n",
       "      <th>3</th>\n",
       "      <td>-122.334540</td>\n",
       "      <td>47.607871</td>\n",
       "      <td>0</td>\n",
       "      <td>0</td>\n",
       "      <td>0</td>\n",
       "      <td>1</td>\n",
       "      <td>0</td>\n",
       "      <td>0</td>\n",
       "    </tr>\n",
       "    <tr>\n",
       "      <th>4</th>\n",
       "      <td>-122.334803</td>\n",
       "      <td>47.604803</td>\n",
       "      <td>0</td>\n",
       "      <td>0</td>\n",
       "      <td>1</td>\n",
       "      <td>0</td>\n",
       "      <td>0</td>\n",
       "      <td>0</td>\n",
       "    </tr>\n",
       "    <tr>\n",
       "      <th>5</th>\n",
       "      <td>-122.306426</td>\n",
       "      <td>47.545739</td>\n",
       "      <td>1</td>\n",
       "      <td>1</td>\n",
       "      <td>0</td>\n",
       "      <td>0</td>\n",
       "      <td>0</td>\n",
       "      <td>0</td>\n",
       "    </tr>\n",
       "  </tbody>\n",
       "</table>\n",
       "</div>"
      ],
      "text/plain": [
       "                   X          Y  ADDRTYPE  Angles  Other  Parked Car  \\\n",
       "OBJECTID                                                               \n",
       "1        -122.323148  47.703140         1       1      0           0   \n",
       "2        -122.347294  47.647172         0       0      0           0   \n",
       "3        -122.334540  47.607871         0       0      0           1   \n",
       "4        -122.334803  47.604803         0       0      1           0   \n",
       "5        -122.306426  47.545739         1       1      0           0   \n",
       "\n",
       "          Rear Ended  Sideswipe  \n",
       "OBJECTID                         \n",
       "1                  0          0  \n",
       "2                  0          1  \n",
       "3                  0          0  \n",
       "4                  0          0  \n",
       "5                  0          0  "
      ]
     },
     "execution_count": 12,
     "metadata": {},
     "output_type": "execute_result"
    }
   ],
   "source": [
    "Feature = seattle_df[['X', 'Y', 'ADDRTYPE']]\n",
    "Feature = pd.concat([Feature,pd.get_dummies(seattle_df['COLLISIONTYPE'])], axis=1)\n",
    "Feature.drop(['Cycles'], axis = 1,inplace=True)\n",
    "Feature.drop(['Head On'], axis = 1,inplace=True)\n",
    "Feature.drop(['Left Turn'], axis = 1,inplace=True)\n",
    "Feature.drop(['Pedestrian'], axis = 1,inplace=True)\n",
    "Feature.drop(['Right Turn'], axis = 1,inplace=True)\n",
    "Feature.head()"
   ]
  },
  {
   "cell_type": "code",
   "execution_count": 13,
   "metadata": {},
   "outputs": [
    {
     "data": {
      "text/html": [
       "<div>\n",
       "<style scoped>\n",
       "    .dataframe tbody tr th:only-of-type {\n",
       "        vertical-align: middle;\n",
       "    }\n",
       "\n",
       "    .dataframe tbody tr th {\n",
       "        vertical-align: top;\n",
       "    }\n",
       "\n",
       "    .dataframe thead th {\n",
       "        text-align: right;\n",
       "    }\n",
       "</style>\n",
       "<table border=\"1\" class=\"dataframe\">\n",
       "  <thead>\n",
       "    <tr style=\"text-align: right;\">\n",
       "      <th></th>\n",
       "      <th>X</th>\n",
       "      <th>Y</th>\n",
       "      <th>ADDRTYPE</th>\n",
       "      <th>Angles</th>\n",
       "      <th>Other</th>\n",
       "      <th>Parked Car</th>\n",
       "      <th>Rear Ended</th>\n",
       "      <th>Sideswipe</th>\n",
       "      <th>At Intersection (intersection related)</th>\n",
       "      <th>Driveway Junction</th>\n",
       "      <th>Mid-Block (but intersection related)</th>\n",
       "      <th>Mid-Block (not related to intersection)</th>\n",
       "      <th>Ramp Junction</th>\n",
       "    </tr>\n",
       "    <tr>\n",
       "      <th>OBJECTID</th>\n",
       "      <th></th>\n",
       "      <th></th>\n",
       "      <th></th>\n",
       "      <th></th>\n",
       "      <th></th>\n",
       "      <th></th>\n",
       "      <th></th>\n",
       "      <th></th>\n",
       "      <th></th>\n",
       "      <th></th>\n",
       "      <th></th>\n",
       "      <th></th>\n",
       "      <th></th>\n",
       "    </tr>\n",
       "  </thead>\n",
       "  <tbody>\n",
       "    <tr>\n",
       "      <th>1</th>\n",
       "      <td>-122.323148</td>\n",
       "      <td>47.703140</td>\n",
       "      <td>1</td>\n",
       "      <td>1</td>\n",
       "      <td>0</td>\n",
       "      <td>0</td>\n",
       "      <td>0</td>\n",
       "      <td>0</td>\n",
       "      <td>1</td>\n",
       "      <td>0</td>\n",
       "      <td>0</td>\n",
       "      <td>0</td>\n",
       "      <td>0</td>\n",
       "    </tr>\n",
       "    <tr>\n",
       "      <th>2</th>\n",
       "      <td>-122.347294</td>\n",
       "      <td>47.647172</td>\n",
       "      <td>0</td>\n",
       "      <td>0</td>\n",
       "      <td>0</td>\n",
       "      <td>0</td>\n",
       "      <td>0</td>\n",
       "      <td>1</td>\n",
       "      <td>0</td>\n",
       "      <td>0</td>\n",
       "      <td>0</td>\n",
       "      <td>1</td>\n",
       "      <td>0</td>\n",
       "    </tr>\n",
       "    <tr>\n",
       "      <th>3</th>\n",
       "      <td>-122.334540</td>\n",
       "      <td>47.607871</td>\n",
       "      <td>0</td>\n",
       "      <td>0</td>\n",
       "      <td>0</td>\n",
       "      <td>1</td>\n",
       "      <td>0</td>\n",
       "      <td>0</td>\n",
       "      <td>0</td>\n",
       "      <td>0</td>\n",
       "      <td>0</td>\n",
       "      <td>1</td>\n",
       "      <td>0</td>\n",
       "    </tr>\n",
       "    <tr>\n",
       "      <th>4</th>\n",
       "      <td>-122.334803</td>\n",
       "      <td>47.604803</td>\n",
       "      <td>0</td>\n",
       "      <td>0</td>\n",
       "      <td>1</td>\n",
       "      <td>0</td>\n",
       "      <td>0</td>\n",
       "      <td>0</td>\n",
       "      <td>0</td>\n",
       "      <td>0</td>\n",
       "      <td>0</td>\n",
       "      <td>1</td>\n",
       "      <td>0</td>\n",
       "    </tr>\n",
       "    <tr>\n",
       "      <th>5</th>\n",
       "      <td>-122.306426</td>\n",
       "      <td>47.545739</td>\n",
       "      <td>1</td>\n",
       "      <td>1</td>\n",
       "      <td>0</td>\n",
       "      <td>0</td>\n",
       "      <td>0</td>\n",
       "      <td>0</td>\n",
       "      <td>1</td>\n",
       "      <td>0</td>\n",
       "      <td>0</td>\n",
       "      <td>0</td>\n",
       "      <td>0</td>\n",
       "    </tr>\n",
       "  </tbody>\n",
       "</table>\n",
       "</div>"
      ],
      "text/plain": [
       "                   X          Y  ADDRTYPE  Angles  Other  Parked Car  \\\n",
       "OBJECTID                                                               \n",
       "1        -122.323148  47.703140         1       1      0           0   \n",
       "2        -122.347294  47.647172         0       0      0           0   \n",
       "3        -122.334540  47.607871         0       0      0           1   \n",
       "4        -122.334803  47.604803         0       0      1           0   \n",
       "5        -122.306426  47.545739         1       1      0           0   \n",
       "\n",
       "          Rear Ended  Sideswipe  At Intersection (intersection related)  \\\n",
       "OBJECTID                                                                  \n",
       "1                  0          0                                       1   \n",
       "2                  0          1                                       0   \n",
       "3                  0          0                                       0   \n",
       "4                  0          0                                       0   \n",
       "5                  0          0                                       1   \n",
       "\n",
       "          Driveway Junction  Mid-Block (but intersection related)  \\\n",
       "OBJECTID                                                            \n",
       "1                         0                                     0   \n",
       "2                         0                                     0   \n",
       "3                         0                                     0   \n",
       "4                         0                                     0   \n",
       "5                         0                                     0   \n",
       "\n",
       "          Mid-Block (not related to intersection)  Ramp Junction  \n",
       "OBJECTID                                                          \n",
       "1                                               0              0  \n",
       "2                                               1              0  \n",
       "3                                               1              0  \n",
       "4                                               1              0  \n",
       "5                                               0              0  "
      ]
     },
     "execution_count": 13,
     "metadata": {},
     "output_type": "execute_result"
    }
   ],
   "source": [
    "Feature = pd.concat([Feature,pd.get_dummies(seattle_df['JUNCTIONTYPE'])], axis=1)\n",
    "Feature.drop(['Unknown'], axis = 1,inplace=True)\n",
    "Feature.drop(['At Intersection (but not related to intersection)'], axis = 1,inplace=True)\n",
    "Feature.head()"
   ]
  },
  {
   "cell_type": "markdown",
   "metadata": {},
   "source": [
    "Now we are ready to assig the one dependent variable as well as the independent ones. "
   ]
  },
  {
   "cell_type": "code",
   "execution_count": 14,
   "metadata": {},
   "outputs": [],
   "source": [
    "y = seattle_df['SEVERITYCODE'].values"
   ]
  },
  {
   "cell_type": "code",
   "execution_count": 15,
   "metadata": {},
   "outputs": [
    {
     "data": {
      "text/html": [
       "<div>\n",
       "<style scoped>\n",
       "    .dataframe tbody tr th:only-of-type {\n",
       "        vertical-align: middle;\n",
       "    }\n",
       "\n",
       "    .dataframe tbody tr th {\n",
       "        vertical-align: top;\n",
       "    }\n",
       "\n",
       "    .dataframe thead th {\n",
       "        text-align: right;\n",
       "    }\n",
       "</style>\n",
       "<table border=\"1\" class=\"dataframe\">\n",
       "  <thead>\n",
       "    <tr style=\"text-align: right;\">\n",
       "      <th></th>\n",
       "      <th>X</th>\n",
       "      <th>Y</th>\n",
       "      <th>ADDRTYPE</th>\n",
       "      <th>Angles</th>\n",
       "      <th>Other</th>\n",
       "      <th>Parked Car</th>\n",
       "      <th>Rear Ended</th>\n",
       "      <th>Sideswipe</th>\n",
       "      <th>At Intersection (intersection related)</th>\n",
       "      <th>Driveway Junction</th>\n",
       "      <th>Mid-Block (but intersection related)</th>\n",
       "      <th>Mid-Block (not related to intersection)</th>\n",
       "      <th>Ramp Junction</th>\n",
       "    </tr>\n",
       "    <tr>\n",
       "      <th>OBJECTID</th>\n",
       "      <th></th>\n",
       "      <th></th>\n",
       "      <th></th>\n",
       "      <th></th>\n",
       "      <th></th>\n",
       "      <th></th>\n",
       "      <th></th>\n",
       "      <th></th>\n",
       "      <th></th>\n",
       "      <th></th>\n",
       "      <th></th>\n",
       "      <th></th>\n",
       "      <th></th>\n",
       "    </tr>\n",
       "  </thead>\n",
       "  <tbody>\n",
       "    <tr>\n",
       "      <th>1</th>\n",
       "      <td>-122.323148</td>\n",
       "      <td>47.703140</td>\n",
       "      <td>1</td>\n",
       "      <td>1</td>\n",
       "      <td>0</td>\n",
       "      <td>0</td>\n",
       "      <td>0</td>\n",
       "      <td>0</td>\n",
       "      <td>1</td>\n",
       "      <td>0</td>\n",
       "      <td>0</td>\n",
       "      <td>0</td>\n",
       "      <td>0</td>\n",
       "    </tr>\n",
       "    <tr>\n",
       "      <th>2</th>\n",
       "      <td>-122.347294</td>\n",
       "      <td>47.647172</td>\n",
       "      <td>0</td>\n",
       "      <td>0</td>\n",
       "      <td>0</td>\n",
       "      <td>0</td>\n",
       "      <td>0</td>\n",
       "      <td>1</td>\n",
       "      <td>0</td>\n",
       "      <td>0</td>\n",
       "      <td>0</td>\n",
       "      <td>1</td>\n",
       "      <td>0</td>\n",
       "    </tr>\n",
       "    <tr>\n",
       "      <th>3</th>\n",
       "      <td>-122.334540</td>\n",
       "      <td>47.607871</td>\n",
       "      <td>0</td>\n",
       "      <td>0</td>\n",
       "      <td>0</td>\n",
       "      <td>1</td>\n",
       "      <td>0</td>\n",
       "      <td>0</td>\n",
       "      <td>0</td>\n",
       "      <td>0</td>\n",
       "      <td>0</td>\n",
       "      <td>1</td>\n",
       "      <td>0</td>\n",
       "    </tr>\n",
       "    <tr>\n",
       "      <th>4</th>\n",
       "      <td>-122.334803</td>\n",
       "      <td>47.604803</td>\n",
       "      <td>0</td>\n",
       "      <td>0</td>\n",
       "      <td>1</td>\n",
       "      <td>0</td>\n",
       "      <td>0</td>\n",
       "      <td>0</td>\n",
       "      <td>0</td>\n",
       "      <td>0</td>\n",
       "      <td>0</td>\n",
       "      <td>1</td>\n",
       "      <td>0</td>\n",
       "    </tr>\n",
       "    <tr>\n",
       "      <th>5</th>\n",
       "      <td>-122.306426</td>\n",
       "      <td>47.545739</td>\n",
       "      <td>1</td>\n",
       "      <td>1</td>\n",
       "      <td>0</td>\n",
       "      <td>0</td>\n",
       "      <td>0</td>\n",
       "      <td>0</td>\n",
       "      <td>1</td>\n",
       "      <td>0</td>\n",
       "      <td>0</td>\n",
       "      <td>0</td>\n",
       "      <td>0</td>\n",
       "    </tr>\n",
       "  </tbody>\n",
       "</table>\n",
       "</div>"
      ],
      "text/plain": [
       "                   X          Y  ADDRTYPE  Angles  Other  Parked Car  \\\n",
       "OBJECTID                                                               \n",
       "1        -122.323148  47.703140         1       1      0           0   \n",
       "2        -122.347294  47.647172         0       0      0           0   \n",
       "3        -122.334540  47.607871         0       0      0           1   \n",
       "4        -122.334803  47.604803         0       0      1           0   \n",
       "5        -122.306426  47.545739         1       1      0           0   \n",
       "\n",
       "          Rear Ended  Sideswipe  At Intersection (intersection related)  \\\n",
       "OBJECTID                                                                  \n",
       "1                  0          0                                       1   \n",
       "2                  0          1                                       0   \n",
       "3                  0          0                                       0   \n",
       "4                  0          0                                       0   \n",
       "5                  0          0                                       1   \n",
       "\n",
       "          Driveway Junction  Mid-Block (but intersection related)  \\\n",
       "OBJECTID                                                            \n",
       "1                         0                                     0   \n",
       "2                         0                                     0   \n",
       "3                         0                                     0   \n",
       "4                         0                                     0   \n",
       "5                         0                                     0   \n",
       "\n",
       "          Mid-Block (not related to intersection)  Ramp Junction  \n",
       "OBJECTID                                                          \n",
       "1                                               0              0  \n",
       "2                                               1              0  \n",
       "3                                               1              0  \n",
       "4                                               1              0  \n",
       "5                                               0              0  "
      ]
     },
     "execution_count": 15,
     "metadata": {},
     "output_type": "execute_result"
    }
   ],
   "source": [
    "X = Feature\n",
    "X[0:5]"
   ]
  },
  {
   "cell_type": "markdown",
   "metadata": {},
   "source": [
    "Now we can proceed to evaluate the 2 algorithim for this research."
   ]
  },
  {
   "cell_type": "markdown",
   "metadata": {},
   "source": [
    "__KNN__"
   ]
  },
  {
   "cell_type": "markdown",
   "metadata": {},
   "source": [
    "First we will calculate what value we will assign to K, running the possible values from 1 to 20."
   ]
  },
  {
   "cell_type": "code",
   "execution_count": 16,
   "metadata": {
    "jupyter": {
     "source_hidden": true
    }
   },
   "outputs": [
    {
     "data": {
      "image/png": "[encoded data removed]",
      "text/plain": [
       "<Figure size 432x288 with 1 Axes>"
      ]
     },
     "metadata": {
      "needs_background": "light"
     },
     "output_type": "display_data"
    },
    {
     "name": "stdout",
     "output_type": "stream",
     "text": [
      "The best accuracy was with 0.7153797401499947 with k = 16\n"
     ]
    }
   ],
   "source": [
    "from sklearn.model_selection import train_test_split\n",
    "from sklearn import metrics\n",
    "from sklearn.neighbors import KNeighborsClassifier\n",
    "import matplotlib.pyplot as plt\n",
    "\n",
    "X_train, X_test, y_train, y_test = train_test_split( X, y, test_size=0.2, random_state=4)\n",
    "\n",
    "Ks = 20\n",
    "mean_acc = np.zeros((Ks-1))\n",
    "std_acc = np.zeros((Ks-1))\n",
    "ConfustionMx = [];\n",
    "for n in range(1,Ks):\n",
    "    neigh = KNeighborsClassifier(n_neighbors = n).fit(X_train,y_train)\n",
    "    yhat = neigh.predict(X_test)\n",
    "    mean_acc[n-1] = metrics.accuracy_score(y_test, yhat)\n",
    "    std_acc[n-1]= np.std(yhat==y_test)/np.sqrt(yhat.shape[0])\n",
    "\n",
    "mean_acc\n",
    "\n",
    "plt.plot(range(1,Ks),mean_acc,'g')\n",
    "plt.fill_between(range(1,Ks),mean_acc - 1 * std_acc,mean_acc + 1 * std_acc, alpha=0.10)\n",
    "plt.legend(('Accuracy ', '+/- 3xstd'))\n",
    "plt.ylabel('Accuracy ')\n",
    "plt.xlabel('Number of Nabors (K)')\n",
    "plt.tight_layout()\n",
    "plt.show()\n",
    "\n",
    "print( \"The best accuracy was with\", mean_acc.max(), \"with k =\", mean_acc.argmax()+1)"
   ]
  },
  {
   "cell_type": "markdown",
   "metadata": {},
   "source": [
    "When training our model using the calculated K, we notice the accuracy in lines below:"
   ]
  },
  {
   "cell_type": "code",
   "execution_count": 17,
   "metadata": {
    "jupyter": {
     "source_hidden": true
    }
   },
   "outputs": [
    {
     "name": "stdout",
     "output_type": "stream",
     "text": [
      "Train set Accuracy:  0.7458853509912788\n",
      "Test set Accuracy:  0.7153797401499947\n"
     ]
    }
   ],
   "source": [
    "k = 16\n",
    "#Train Model and Predict  \n",
    "neigh = KNeighborsClassifier(n_neighbors = k).fit(X_train,y_train)\n",
    "yhat = neigh.predict(X_test)\n",
    "\n",
    "#labels\n",
    "print(\"Train set Accuracy: \", metrics.accuracy_score(y_train, neigh.predict(X_train)))\n",
    "print(\"Test set Accuracy: \", metrics.accuracy_score(y_test, yhat))"
   ]
  },
  {
   "cell_type": "markdown",
   "metadata": {},
   "source": [
    "Testing this model for accuracy, the results are:"
   ]
  },
  {
   "cell_type": "code",
   "execution_count": 18,
   "metadata": {
    "jupyter": {
     "source_hidden": true
    }
   },
   "outputs": [
    {
     "name": "stdout",
     "output_type": "stream",
     "text": [
      "              precision    recall  f1-score   support\n",
      "\n",
      "           1       0.75      0.89      0.81     26251\n",
      "           2       0.57      0.31      0.40     11617\n",
      "\n",
      "   micro avg       0.72      0.72      0.72     37868\n",
      "   macro avg       0.66      0.60      0.61     37868\n",
      "weighted avg       0.69      0.72      0.69     37868\n",
      "\n",
      "Jaccard Similarity Score:  71.54 %\n",
      "F1-SCORE:  [0.8134132  0.40028934]\n",
      "Train Accuracy:  74.59 %\n"
     ]
    }
   ],
   "source": [
    "from sklearn.metrics import classification_report,jaccard_similarity_score,log_loss,f1_score\n",
    "\n",
    "print(classification_report(y_test,yhat))\n",
    "print('Jaccard Similarity Score: ',round(jaccard_similarity_score(y_test,yhat)*100,2),'%')\n",
    "print('F1-SCORE: ',f1_score(y_test,yhat,average=None))\n",
    "print('Train Accuracy: ',round(metrics.accuracy_score(y_train, neigh.predict(X_train))*100,2),'%')"
   ]
  },
  {
   "cell_type": "markdown",
   "metadata": {},
   "source": [
    " "
   ]
  },
  {
   "cell_type": "markdown",
   "metadata": {},
   "source": [
    "__Linear Regression__"
   ]
  },
  {
   "cell_type": "markdown",
   "metadata": {},
   "source": [
    "The second model to try is the Linear Regression. Once the model is trained and tested the result are:"
   ]
  },
  {
   "cell_type": "code",
   "execution_count": 19,
   "metadata": {
    "jupyter": {
     "source_hidden": true
    }
   },
   "outputs": [],
   "source": [
    "from sklearn.linear_model import LogisticRegression\n",
    "from sklearn.model_selection import train_test_split\n",
    "from sklearn import metrics\n",
    "from sklearn.metrics import classification_report,jaccard_similarity_score,log_loss,f1_score,confusion_matrix "
   ]
  },
  {
   "cell_type": "code",
   "execution_count": 20,
   "metadata": {
    "jupyter": {
     "source_hidden": true
    }
   },
   "outputs": [],
   "source": [
    "X_train, X_test, y_train, y_test = train_test_split( X, y, test_size=0.2, random_state=4)\n",
    "\n",
    "LR = LogisticRegression(C=0.01, solver='liblinear').fit(X_train,y_train)\n",
    "pred_LR = LR.predict(X_test)\n",
    "pred_LR_prob = LR.predict_proba(X_test)"
   ]
  },
  {
   "cell_type": "code",
   "execution_count": 21,
   "metadata": {
    "jupyter": {
     "source_hidden": true
    }
   },
   "outputs": [
    {
     "name": "stdout",
     "output_type": "stream",
     "text": [
      "              precision    recall  f1-score   support\n",
      "\n",
      "           1       0.75      0.91      0.82     26251\n",
      "           2       0.59      0.30      0.40     11617\n",
      "\n",
      "   micro avg       0.72      0.72      0.72     37868\n",
      "   macro avg       0.67      0.61      0.61     37868\n",
      "weighted avg       0.70      0.72      0.69     37868\n",
      "\n",
      "Jaccard Similarity Score :  72.26 %\n",
      "F1-SCORE :  [0.81954538 0.40095819]\n",
      "Train Accuracy:  72.34 %\n"
     ]
    }
   ],
   "source": [
    "print(classification_report(y_test,pred_LR))\n",
    "\n",
    "print('Jaccard Similarity Score : ',round(jaccard_similarity_score(y_test,pred_LR)*100,2),'%')\n",
    "print('F1-SCORE : ',f1_score(y_test,pred_LR,average=None))\n",
    "print('Train Accuracy: ',round(metrics.accuracy_score(y_train, LR.predict(X_train))*100,2),'%')"
   ]
  },
  {
   "cell_type": "markdown",
   "metadata": {},
   "source": [
    "When evaluating the log loss the result indicates a fairly realiable model when considering the number of variables in the model."
   ]
  },
  {
   "cell_type": "code",
   "execution_count": 23,
   "metadata": {
    "jupyter": {
     "source_hidden": true
    }
   },
   "outputs": [
    {
     "name": "stdout",
     "output_type": "stream",
     "text": [
      "Log Loss:  0.5260081931473134\n"
     ]
    }
   ],
   "source": [
    "log_reg_pred = LR.predict_proba(X_test)\n",
    "log_reg_logloss = log_loss(y_test,log_reg_pred)\n",
    "print('Log Loss: ',  log_reg_logloss)"
   ]
  },
  {
   "cell_type": "markdown",
   "metadata": {},
   "source": [
    "To recap the 2 algorithims tested presented similar accuracy as show:\n",
    "\n",
    "\n",
    "Algorithm | Jaccard | F1-SCORE | Log Loss\n",
    "------ | ---- | --- | ---:\n",
    "KNN | 71.54 % | [0.8134132  0.40028934]\n",
    "LogisticRegression | 72.26 % | [0.81954538 0.40095819] | 0.526\n",
    "\n",
    "\n"
   ]
  },
  {
   "cell_type": "markdown",
   "metadata": {},
   "source": [
    "## Results and Discussion <a name=\"results\"></a>"
   ]
  },
  {
   "cell_type": "markdown",
   "metadata": {},
   "source": [
    "In this project we have direct our efforts on detecting areas of Seattle where the recorded accidents are located and what independent variables would help predict future incidents.\n",
    "\n",
    "Our visual analysis helped identify the four neighborhood with more incidents (Industrial District, Central Business District, Belltown and University District) as well as two roads, Reiner Ave S and the stretch from 15th Ave W to 15th Ave NW all the way to Holman Rd NW, which may require city officials to review the flow of traffic due to the high number of accidents. \n",
    "\n",
    "It was confirmed that WEATHER, ROAD CONDITIONS and LIGHT CONDITIONS were not are not significant factors in the number of accidents as, for the most part, both conditions were favorable to the driver with clear sky 60%, dry road, 67%, and most of them happening in daylight, 63% of total. SPEED also has little incident in the total number of accidents as only 4% of the accidents were speed related.\n",
    "\n",
    "The three more common kind of accidents, COLLISION TYPE, are related to parked cars, a car hit by the angle or the car being rear ended, as they amount to 62% of all accidents. Unfortunately we will have continue the analysis to determine if, for example, the collision of parked cars has any relation with the location of nearby universities, in the University District, or retail location, in Belltown or the Central Business District.\n",
    "\n",
    "As a predictive method we worked KNN and Linear Regressions. The estimated variable was the __SEVERITY CODE__ and the independent variables were __Collision Type__, __Address Type__, __Junction Type__, __Latitude__ and __Longitude__, the latter both geographical variables. \n",
    "\n",
    "The two algorithms used to build a predictive model are KNN and logistic regression. When evaluated both algorithms presented similar results, with Logistic Regression presenting a slightly better Jaccard index, 72.26% vs 71.54% for KNN, and a log loss of 0.520 which is fairly good considering the number of independent variables in the model.\n"
   ]
  },
  {
   "cell_type": "markdown",
   "metadata": {},
   "source": [
    "## <a name=\"conclusion\"></a> Conclusion"
   ]
  },
  {
   "cell_type": "markdown",
   "metadata": {},
   "source": [
    "Purpose of this project was to identify descriptive and analytically what are the main variables that determine car accidents in the City of Seattle. We were able to identify the main neighborhoods that have the highest number of incidents, as well as the 2 roads that accumulate the highest density of accidents.\n",
    "\n",
    "Even though the City of Seattle has fairly complete dataset with the record of accidents and a large list of attributes of those incidents, it was noted some information may be missing or recorded incomplete. SEVERITY CODE only recorded 2 type of collision out of the 4 available, not considering the \"unknown\" value. Also 16% of the INCDTTM, time stamp attribute, did not have the time value, only de date which is already in the INCDATE field. Stakeholder may need to review internal process in order to collect that data. \n",
    "\n",
    "Both the KNN and Logistic Regression algorithms present similar accuracy with the later being slightly better and also faster to perform.\n",
    "\n",
    "Collision Type, Address Type, Junction Type, Latitude and Longitude are good predictor of the severity of a car accident.\n",
    "\n",
    "Even though we were able to create a model using KNN and Linear Regression, this exercise can be expanded to explore with more detail the geography and transit loads of the city."
   ]
  },
  {
   "cell_type": "markdown",
   "metadata": {},
   "source": [
    "## <a name=\"references\"></a> References"
   ]
  },
  {
   "cell_type": "markdown",
   "metadata": {},
   "source": [
    "(1) The National Safety Council. Motor Vehicle Deaths Estimated to Have Dropped 2% in 2019. https://www.nsc.org/road-safety/safety-topics/fatality-estimates\n",
    "\n",
    "(2) Kavi Bhalla et All. A Risk-Based Method for Modeling Traffic Fatalities. Risk Analysis, Vol. 27, No. 1, 2007  \n",
    "\n",
    "(3) SDOT Traffic Management Division, Traffic Records Group. https://www.seattle.gov\n",
    "\n",
    "(4) ArcGIS www.esri.com "
   ]
  }
 ],
 "metadata": {
  "kernelspec": {
   "display_name": "Python",
   "language": "python",
   "name": "conda-env-python-py"
  },
  "language_info": {
   "codemirror_mode": {
    "name": "ipython",
    "version": 3
   },
   "file_extension": ".py",
   "mimetype": "text/x-python",
   "name": "python",
   "nbconvert_exporter": "python",
   "pygments_lexer": "ipython3",
   "version": "3.6.11"
  }
 },
 "nbformat": 4,
 "nbformat_minor": 4
}
